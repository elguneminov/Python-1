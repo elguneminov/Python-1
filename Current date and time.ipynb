{
 "cells": [
  {
   "cell_type": "markdown",
   "metadata": {},
   "source": [
    "# Current date and time"
   ]
  },
  {
   "cell_type": "code",
   "execution_count": 1,
   "metadata": {},
   "outputs": [],
   "source": [
    "from datetime import date"
   ]
  },
  {
   "cell_type": "code",
   "execution_count": 3,
   "metadata": {},
   "outputs": [
    {
     "name": "stdout",
     "output_type": "stream",
     "text": [
      "Today:  2020-10-04\n",
      "<class 'datetime.date'>\n"
     ]
    }
   ],
   "source": [
    "today = date.today()\n",
    "\n",
    "print(\"Today: \", today)\n",
    "print(type(today))"
   ]
  },
  {
   "cell_type": "code",
   "execution_count": 5,
   "metadata": {},
   "outputs": [
    {
     "name": "stdout",
     "output_type": "stream",
     "text": [
      "D1:  04/10/2020\n",
      "D2:  October 04, 2020\n",
      "D3:  Oct-04-2020\n"
     ]
    }
   ],
   "source": [
    "today = date.today()\n",
    "\n",
    "d1 = today.strftime('%d/%m/%Y')\n",
    "print(\"D1: \", d1)\n",
    "\n",
    "d2 = today.strftime('%B %d, %Y')\n",
    "print(\"D2: \", d2)\n",
    "\n",
    "d3 = today.strftime(\"%b-%d-%Y\")\n",
    "print('D3: ', d3)"
   ]
  },
  {
   "cell_type": "code",
   "execution_count": 6,
   "metadata": {},
   "outputs": [],
   "source": [
    "from datetime import datetime"
   ]
  },
  {
   "cell_type": "code",
   "execution_count": 7,
   "metadata": {},
   "outputs": [
    {
     "name": "stdout",
     "output_type": "stream",
     "text": [
      "Now:  2020-10-04 03:06:49.278827\n",
      "Date and Time:  04-10-2020, 03:06:49\n"
     ]
    }
   ],
   "source": [
    "now = datetime.now()\n",
    "print(\"Now: \", now)\n",
    "\n",
    "str_now = now.strftime(\"%d-%m-%Y, %H:%M:%S\")\n",
    "print(\"Date and Time: \", str_now)"
   ]
  },
  {
   "cell_type": "code",
   "execution_count": 8,
   "metadata": {},
   "outputs": [],
   "source": [
    " import pytz"
   ]
  },
  {
   "cell_type": "code",
   "execution_count": 14,
   "metadata": {},
   "outputs": [
    {
     "name": "stdout",
     "output_type": "stream",
     "text": [
      "Date and Time of America:  03-10-2020, 18:10:50\n",
      "Date and Time of London:  03-10-2020, 23:10:50\n"
     ]
    }
   ],
   "source": [
    "tz = pytz.timezone('America/New_York')\n",
    "now = datetime.now(tz)\n",
    "\n",
    "str_now = now.strftime(\"%d-%m-%Y, %H:%M:%S\")\n",
    "print(\"Date and Time of America: \", str_now)\n",
    "\n",
    "tz = pytz.timezone('Europe/London')\n",
    "now = datetime.now(tz)\n",
    "\n",
    "str_now = now.strftime(\"%d-%m-%Y, %H:%M:%S\")\n",
    "print(\"Date and Time of London: \", str_now)\n",
    "\n"
   ]
  },
  {
   "cell_type": "code",
   "execution_count": null,
   "metadata": {},
   "outputs": [],
   "source": []
  },
  {
   "cell_type": "code",
   "execution_count": null,
   "metadata": {},
   "outputs": [],
   "source": []
  },
  {
   "cell_type": "code",
   "execution_count": null,
   "metadata": {},
   "outputs": [],
   "source": []
  },
  {
   "cell_type": "code",
   "execution_count": null,
   "metadata": {},
   "outputs": [],
   "source": []
  },
  {
   "cell_type": "code",
   "execution_count": null,
   "metadata": {},
   "outputs": [],
   "source": []
  },
  {
   "cell_type": "code",
   "execution_count": null,
   "metadata": {},
   "outputs": [],
   "source": []
  },
  {
   "cell_type": "code",
   "execution_count": null,
   "metadata": {},
   "outputs": [],
   "source": []
  }
 ],
 "metadata": {
  "kernelspec": {
   "display_name": "Python 3",
   "language": "python",
   "name": "python3"
  },
  "language_info": {
   "codemirror_mode": {
    "name": "ipython",
    "version": 3
   },
   "file_extension": ".py",
   "mimetype": "text/x-python",
   "name": "python",
   "nbconvert_exporter": "python",
   "pygments_lexer": "ipython3",
   "version": "3.7.1"
  }
 },
 "nbformat": 4,
 "nbformat_minor": 2
}
