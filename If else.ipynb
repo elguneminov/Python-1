{
 "cells": [
  {
   "cell_type": "markdown",
   "metadata": {},
   "source": [
    "# If Else"
   ]
  },
  {
   "cell_type": "code",
   "execution_count": null,
   "metadata": {},
   "outputs": [],
   "source": [
    "//Psuedo\n",
    "\n",
    "if condition/test expression:\n",
    "    // code\n",
    "else:\n",
    "    //code"
   ]
  },
  {
   "cell_type": "code",
   "execution_count": 8,
   "metadata": {},
   "outputs": [
    {
     "name": "stdout",
     "output_type": "stream",
     "text": [
      "-3  is negative\n",
      "This statement is always printed\n"
     ]
    }
   ],
   "source": [
    "num = -3\n",
    "\n",
    "if num > 0:\n",
    "    print(num, ' is positive')\n",
    "else:\n",
    "    print(num, ' is negative')\n",
    "    \n",
    "print('This statement is always printed')"
   ]
  },
  {
   "cell_type": "code",
   "execution_count": null,
   "metadata": {},
   "outputs": [],
   "source": [
    "#Sytax of if--else\n",
    "\n",
    "if test expression:\n",
    "    if body code\n",
    "else:\n",
    "    else body code"
   ]
  },
  {
   "cell_type": "code",
   "execution_count": null,
   "metadata": {},
   "outputs": [],
   "source": [
    "#Sytax of if - elif\n",
    "\n",
    "if test expression:\n",
    "    if body code\n",
    "elif test expression:\n",
    "    elif body code\n",
    "elif test expression:\n",
    "    elif body code\n",
    ".\n",
    ".\n",
    ".\n",
    "else:\n",
    "    else body code"
   ]
  },
  {
   "cell_type": "code",
   "execution_count": 11,
   "metadata": {},
   "outputs": [
    {
     "name": "stdout",
     "output_type": "stream",
     "text": [
      "0  is a ZERO\n"
     ]
    }
   ],
   "source": [
    "num = 0\n",
    "\n",
    "if num > 0:\n",
    "    print(num, ' is a postive number')\n",
    "elif num == 0:\n",
    "    print(num, ' is a ZERO')\n",
    "else:\n",
    "    print(num, ' is a negative number')"
   ]
  },
  {
   "cell_type": "markdown",
   "metadata": {},
   "source": [
    "# Nested if else"
   ]
  },
  {
   "cell_type": "code",
   "execution_count": null,
   "metadata": {},
   "outputs": [],
   "source": [
    "# Syntax\n",
    "\n",
    "if test expression:\n",
    "    \n",
    "    //code\n",
    "    \n",
    "    if test expression:\n",
    "        inner if code\n",
    "    else:\n",
    "        inner else code\n",
    "else:\n",
    "    outer else code"
   ]
  },
  {
   "cell_type": "code",
   "execution_count": 20,
   "metadata": {},
   "outputs": [
    {
     "name": "stdout",
     "output_type": "stream",
     "text": [
      "Enter a number: 6\n",
      "6  is a postive even number\n"
     ]
    }
   ],
   "source": [
    "# Program to check if the number is positve even number\n",
    "num = int(input('Enter a number: '))\n",
    "\n",
    "if num >= 0:\n",
    "    \n",
    "    if num % 2 == 0:\n",
    "        print(num, ' is a postive even number')\n",
    "    else:\n",
    "        print(num, ' is a postive odd number')\n",
    "else:\n",
    "    if num % 2 == 0:\n",
    "        print(num, ' is a negtaive even number')\n",
    "    else:\n",
    "        print(num, ' is a negative odd number')\n",
    "        "
   ]
  },
  {
   "cell_type": "code",
   "execution_count": null,
   "metadata": {},
   "outputs": [],
   "source": [
    "num%2 == 0"
   ]
  },
  {
   "cell_type": "code",
   "execution_count": 13,
   "metadata": {},
   "outputs": [
    {
     "data": {
      "text/plain": [
       "1"
      ]
     },
     "execution_count": 13,
     "metadata": {},
     "output_type": "execute_result"
    }
   ],
   "source": [
    "3%2"
   ]
  },
  {
   "cell_type": "code",
   "execution_count": null,
   "metadata": {},
   "outputs": [],
   "source": [
    "# Program grading scale\n",
    "\n",
    "90+ A 'Your grade is A. Congrats'\n",
    "80+ B\n",
    "70+ C\n",
    "60+ D\n",
    "<60 F 'Sorry, you failed the subjected. best of luck next time'"
   ]
  }
 ],
 "metadata": {
  "kernelspec": {
   "display_name": "Python 3",
   "language": "python",
   "name": "python3"
  },
  "language_info": {
   "codemirror_mode": {
    "name": "ipython",
    "version": 3
   },
   "file_extension": ".py",
   "mimetype": "text/x-python",
   "name": "python",
   "nbconvert_exporter": "python",
   "pygments_lexer": "ipython3",
   "version": "3.7.1"
  }
 },
 "nbformat": 4,
 "nbformat_minor": 2
}
