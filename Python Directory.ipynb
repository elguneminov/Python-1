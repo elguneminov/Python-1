{
 "cells": [
  {
   "cell_type": "markdown",
   "metadata": {},
   "source": [
    "# Python Directory"
   ]
  },
  {
   "cell_type": "code",
   "execution_count": 2,
   "metadata": {},
   "outputs": [],
   "source": [
    "import os"
   ]
  },
  {
   "cell_type": "code",
   "execution_count": 3,
   "metadata": {},
   "outputs": [
    {
     "data": {
      "text/plain": [
       "'C:\\\\Users\\\\123'"
      ]
     },
     "execution_count": 3,
     "metadata": {},
     "output_type": "execute_result"
    }
   ],
   "source": [
    "os.getcwd()"
   ]
  },
  {
   "cell_type": "code",
   "execution_count": 4,
   "metadata": {},
   "outputs": [
    {
     "name": "stderr",
     "output_type": "stream",
     "text": [
      "C:\\Users\\123\\Anaconda3\\lib\\site-packages\\ipykernel_launcher.py:1: DeprecationWarning: The Windows bytes API has been deprecated, use Unicode filenames instead\n",
      "  \"\"\"Entry point for launching an IPython kernel.\n"
     ]
    },
    {
     "data": {
      "text/plain": [
       "b'C:\\\\Users\\\\123'"
      ]
     },
     "execution_count": 4,
     "metadata": {},
     "output_type": "execute_result"
    }
   ],
   "source": [
    "os.getcwdb()"
   ]
  },
  {
   "cell_type": "code",
   "execution_count": 5,
   "metadata": {},
   "outputs": [
    {
     "name": "stdout",
     "output_type": "stream",
     "text": [
      "C:\\Users\\123\n"
     ]
    }
   ],
   "source": [
    "print(os.getcwd())"
   ]
  },
  {
   "cell_type": "markdown",
   "metadata": {},
   "source": [
    "# Changing directry"
   ]
  },
  {
   "cell_type": "code",
   "execution_count": 38,
   "metadata": {},
   "outputs": [],
   "source": [
    "os.chdir('C:\\\\Users\\\\123')"
   ]
  },
  {
   "cell_type": "code",
   "execution_count": 7,
   "metadata": {},
   "outputs": [
    {
     "data": {
      "text/plain": [
       "'C:\\\\Users\\\\123\\\\documents'"
      ]
     },
     "execution_count": 7,
     "metadata": {},
     "output_type": "execute_result"
    }
   ],
   "source": [
    "os.getcwd()"
   ]
  },
  {
   "cell_type": "markdown",
   "metadata": {},
   "source": [
    "# List Directories and Files"
   ]
  },
  {
   "cell_type": "code",
   "execution_count": 8,
   "metadata": {},
   "outputs": [
    {
     "data": {
      "text/plain": [
       "['Adobe',\n",
       " 'Custom Office Templates',\n",
       " 'desktop.ini',\n",
       " 'My Music',\n",
       " 'My Pictures',\n",
       " 'My Videos']"
      ]
     },
     "execution_count": 8,
     "metadata": {},
     "output_type": "execute_result"
    }
   ],
   "source": [
    "os.listdir()"
   ]
  },
  {
   "cell_type": "code",
   "execution_count": 9,
   "metadata": {},
   "outputs": [
    {
     "data": {
      "text/plain": [
       "['.anaconda',\n",
       " '.atom',\n",
       " '.bash_history',\n",
       " '.conda',\n",
       " '.condarc',\n",
       " '.cufflinks',\n",
       " '.git',\n",
       " '.gitconfig',\n",
       " '.Icecream Screen Recorder',\n",
       " '.ipynb_checkpoints',\n",
       " '.ipython',\n",
       " '.jupyter',\n",
       " '.keras',\n",
       " '.matplotlib',\n",
       " '.nbi',\n",
       " '.oracle_jre_usage',\n",
       " '.packettracer',\n",
       " '.PyCharm2019.3',\n",
       " '.pylint.d',\n",
       " '.spyder-py3',\n",
       " '3D Objects',\n",
       " 'Anaconda3',\n",
       " 'AppData',\n",
       " 'Application Data',\n",
       " 'Cisco Packet Tracer 6.2sv',\n",
       " 'Cisco Packet Tracer 7.2',\n",
       " 'Contacts',\n",
       " 'cookbook',\n",
       " 'Cookies',\n",
       " 'Corona',\n",
       " 'Creative Cloud Files',\n",
       " 'Creative Cloud Files (archived) (1)',\n",
       " 'Data Types in Python.ipynb',\n",
       " 'Desktop',\n",
       " 'Dictionary.ipynb',\n",
       " 'Documents',\n",
       " 'Downloads',\n",
       " 'Envs',\n",
       " 'Favorites',\n",
       " 'For Loop.ipynb',\n",
       " 'Function Arguments.ipynb',\n",
       " 'Functions.ipynb',\n",
       " 'Getting Started.ipynb',\n",
       " 'hw1.ipynb',\n",
       " 'If else.ipynb',\n",
       " 'Input Output.ipynb',\n",
       " 'IntelGraphicsProfiles',\n",
       " 'Kaggle .ipynb',\n",
       " 'lambda  Functions.ipynb',\n",
       " 'LightGBM',\n",
       " 'Links',\n",
       " 'List Comprehension.ipynb',\n",
       " 'List.ipynb',\n",
       " 'Local Settings',\n",
       " 'MicrosoftEdgeBackups',\n",
       " 'ML_Intro_ML.ipynb',\n",
       " 'Music',\n",
       " 'My Code.ipynb',\n",
       " 'My Documents',\n",
       " 'Namespaces.ipynb',\n",
       " 'NetHood',\n",
       " 'NTUSER.DAT',\n",
       " 'ntuser.dat.LOG1',\n",
       " 'ntuser.dat.LOG2',\n",
       " 'NTUSER.DAT{8ebe95f6-3dcb-11e8-a9d9-7cfe90913f50}.TxR.0.regtrans-ms',\n",
       " 'NTUSER.DAT{8ebe95f6-3dcb-11e8-a9d9-7cfe90913f50}.TxR.1.regtrans-ms',\n",
       " 'NTUSER.DAT{8ebe95f6-3dcb-11e8-a9d9-7cfe90913f50}.TxR.2.regtrans-ms',\n",
       " 'NTUSER.DAT{8ebe95f6-3dcb-11e8-a9d9-7cfe90913f50}.TxR.blf',\n",
       " 'NTUSER.DAT{8ebe95f7-3dcb-11e8-a9d9-7cfe90913f50}.TM.blf',\n",
       " 'NTUSER.DAT{8ebe95f7-3dcb-11e8-a9d9-7cfe90913f50}.TMContainer00000000000000000001.regtrans-ms',\n",
       " 'NTUSER.DAT{8ebe95f7-3dcb-11e8-a9d9-7cfe90913f50}.TMContainer00000000000000000002.regtrans-ms',\n",
       " 'ntuser.ini',\n",
       " 'Numbers.ipynb',\n",
       " 'OneDrive',\n",
       " 'Operator.ipynb',\n",
       " 'Pandas - Series.ipynb',\n",
       " 'parkash_heerani',\n",
       " 'Pictures',\n",
       " 'Practice',\n",
       " 'Practice.ipynb',\n",
       " 'Practice_Notebook.ipynb',\n",
       " 'PrintHood',\n",
       " 'PROHACK.ipynb',\n",
       " 'Python Break and Continue.ipynb',\n",
       " 'Python Comments.ipynb',\n",
       " 'Python Directory.ipynb',\n",
       " 'Python File IO.ipynb',\n",
       " 'Python Pass.ipynb',\n",
       " 'Python Variables.ipynb',\n",
       " 'Recent',\n",
       " 'Recursion.ipynb',\n",
       " 'Salaries.csv',\n",
       " 'Saved Games',\n",
       " 'scikit_learn_data',\n",
       " 'seaborn-data',\n",
       " 'Searches',\n",
       " 'SendTo',\n",
       " 'Sets.ipynb',\n",
       " 'SF Salaries Exercise Solutions.ipynb',\n",
       " 'source',\n",
       " 'Start Menu',\n",
       " 'String Functions.ipynb',\n",
       " 'String Methods.ipynb',\n",
       " 'Strings.ipynb',\n",
       " 'T-5060548008706965508605070',\n",
       " 'Templates',\n",
       " 'text.txt',\n",
       " 'tips.csv',\n",
       " 'Titanic.ipynb',\n",
       " 'titanic_test.csv',\n",
       " 'titanic_train.csv',\n",
       " 'Tuples.ipynb',\n",
       " 'Untitled.ipynb',\n",
       " 'Untitled1.ipynb',\n",
       " 'Untitled2.ipynb',\n",
       " 'Variable Scope.ipynb',\n",
       " 'venv',\n",
       " 'Videos',\n",
       " 'While Loop.ipynb']"
      ]
     },
     "execution_count": 9,
     "metadata": {},
     "output_type": "execute_result"
    }
   ],
   "source": [
    "os.listdir('C:\\\\Users\\\\123')"
   ]
  },
  {
   "cell_type": "markdown",
   "metadata": {},
   "source": [
    "# Making new directry"
   ]
  },
  {
   "cell_type": "code",
   "execution_count": 35,
   "metadata": {},
   "outputs": [],
   "source": [
    "os.mkdir('text1')"
   ]
  },
  {
   "cell_type": "code",
   "execution_count": 11,
   "metadata": {},
   "outputs": [
    {
     "data": {
      "text/plain": [
       "['Adobe',\n",
       " 'Custom Office Templates',\n",
       " 'desktop.ini',\n",
       " 'My Music',\n",
       " 'My Pictures',\n",
       " 'My Videos',\n",
       " 'test']"
      ]
     },
     "execution_count": 11,
     "metadata": {},
     "output_type": "execute_result"
    }
   ],
   "source": [
    "os.listdir()"
   ]
  },
  {
   "cell_type": "markdown",
   "metadata": {},
   "source": [
    "# Renaming a directry or a file"
   ]
  },
  {
   "cell_type": "code",
   "execution_count": 12,
   "metadata": {},
   "outputs": [],
   "source": [
    "os.rename('test', 'new one')"
   ]
  },
  {
   "cell_type": "code",
   "execution_count": 13,
   "metadata": {},
   "outputs": [
    {
     "data": {
      "text/plain": [
       "['Adobe',\n",
       " 'Custom Office Templates',\n",
       " 'desktop.ini',\n",
       " 'My Music',\n",
       " 'My Pictures',\n",
       " 'My Videos',\n",
       " 'new one']"
      ]
     },
     "execution_count": 13,
     "metadata": {},
     "output_type": "execute_result"
    }
   ],
   "source": [
    "os.listdir()"
   ]
  },
  {
   "cell_type": "markdown",
   "metadata": {},
   "source": [
    "# Removing directry or file"
   ]
  },
  {
   "cell_type": "code",
   "execution_count": 16,
   "metadata": {},
   "outputs": [
    {
     "data": {
      "text/plain": [
       "['Adobe',\n",
       " 'Custom Office Templates',\n",
       " 'desktop.ini',\n",
       " 'My Music',\n",
       " 'My Pictures',\n",
       " 'My Videos',\n",
       " 'new one',\n",
       " 'test1']"
      ]
     },
     "execution_count": 16,
     "metadata": {},
     "output_type": "execute_result"
    }
   ],
   "source": [
    "os.listdir()"
   ]
  },
  {
   "cell_type": "code",
   "execution_count": 23,
   "metadata": {},
   "outputs": [],
   "source": [
    "os.chdir('C:\\\\Users\\\\123')"
   ]
  },
  {
   "cell_type": "code",
   "execution_count": 29,
   "metadata": {},
   "outputs": [
    {
     "data": {
      "text/plain": [
       "['.anaconda',\n",
       " '.atom',\n",
       " '.bash_history',\n",
       " '.conda',\n",
       " '.condarc',\n",
       " '.cufflinks',\n",
       " '.git',\n",
       " '.gitconfig',\n",
       " '.Icecream Screen Recorder',\n",
       " '.ipynb_checkpoints',\n",
       " '.ipython',\n",
       " '.jupyter',\n",
       " '.keras',\n",
       " '.matplotlib',\n",
       " '.nbi',\n",
       " '.oracle_jre_usage',\n",
       " '.packettracer',\n",
       " '.PyCharm2019.3',\n",
       " '.pylint.d',\n",
       " '.spyder-py3',\n",
       " '3D Objects',\n",
       " 'Anaconda3',\n",
       " 'AppData',\n",
       " 'Application Data',\n",
       " 'Cisco Packet Tracer 6.2sv',\n",
       " 'Cisco Packet Tracer 7.2',\n",
       " 'Contacts',\n",
       " 'cookbook',\n",
       " 'Cookies',\n",
       " 'Corona',\n",
       " 'Creative Cloud Files',\n",
       " 'Creative Cloud Files (archived) (1)',\n",
       " 'Data Types in Python.ipynb',\n",
       " 'Desktop',\n",
       " 'Dictionary.ipynb',\n",
       " 'Documents',\n",
       " 'Downloads',\n",
       " 'Envs',\n",
       " 'Favorites',\n",
       " 'For Loop.ipynb',\n",
       " 'Function Arguments.ipynb',\n",
       " 'Functions.ipynb',\n",
       " 'Getting Started.ipynb',\n",
       " 'hw1.ipynb',\n",
       " 'If else.ipynb',\n",
       " 'Input Output.ipynb',\n",
       " 'IntelGraphicsProfiles',\n",
       " 'Kaggle .ipynb',\n",
       " 'lambda  Functions.ipynb',\n",
       " 'LightGBM',\n",
       " 'Links',\n",
       " 'List Comprehension.ipynb',\n",
       " 'List.ipynb',\n",
       " 'Local Settings',\n",
       " 'MicrosoftEdgeBackups',\n",
       " 'ML_Intro_ML.ipynb',\n",
       " 'Music',\n",
       " 'My Code.ipynb',\n",
       " 'My Documents',\n",
       " 'Namespaces.ipynb',\n",
       " 'NetHood',\n",
       " 'NTUSER.DAT',\n",
       " 'ntuser.dat.LOG1',\n",
       " 'ntuser.dat.LOG2',\n",
       " 'NTUSER.DAT{8ebe95f6-3dcb-11e8-a9d9-7cfe90913f50}.TxR.0.regtrans-ms',\n",
       " 'NTUSER.DAT{8ebe95f6-3dcb-11e8-a9d9-7cfe90913f50}.TxR.1.regtrans-ms',\n",
       " 'NTUSER.DAT{8ebe95f6-3dcb-11e8-a9d9-7cfe90913f50}.TxR.2.regtrans-ms',\n",
       " 'NTUSER.DAT{8ebe95f6-3dcb-11e8-a9d9-7cfe90913f50}.TxR.blf',\n",
       " 'NTUSER.DAT{8ebe95f7-3dcb-11e8-a9d9-7cfe90913f50}.TM.blf',\n",
       " 'NTUSER.DAT{8ebe95f7-3dcb-11e8-a9d9-7cfe90913f50}.TMContainer00000000000000000001.regtrans-ms',\n",
       " 'NTUSER.DAT{8ebe95f7-3dcb-11e8-a9d9-7cfe90913f50}.TMContainer00000000000000000002.regtrans-ms',\n",
       " 'ntuser.ini',\n",
       " 'Numbers.ipynb',\n",
       " 'OneDrive',\n",
       " 'Operator.ipynb',\n",
       " 'Pandas - Series.ipynb',\n",
       " 'parkash_heerani',\n",
       " 'Pictures',\n",
       " 'Practice',\n",
       " 'Practice.ipynb',\n",
       " 'Practice_Notebook.ipynb',\n",
       " 'PrintHood',\n",
       " 'PROHACK.ipynb',\n",
       " 'Python Break and Continue.ipynb',\n",
       " 'Python Comments.ipynb',\n",
       " 'Python Directory.ipynb',\n",
       " 'Python File IO.ipynb',\n",
       " 'Python Pass.ipynb',\n",
       " 'Python Variables.ipynb',\n",
       " 'Recent',\n",
       " 'Recursion.ipynb',\n",
       " 'Salaries.csv',\n",
       " 'Saved Games',\n",
       " 'scikit_learn_data',\n",
       " 'seaborn-data',\n",
       " 'Searches',\n",
       " 'SendTo',\n",
       " 'Sets.ipynb',\n",
       " 'SF Salaries Exercise Solutions.ipynb',\n",
       " 'source',\n",
       " 'Start Menu',\n",
       " 'String Functions.ipynb',\n",
       " 'String Methods.ipynb',\n",
       " 'Strings.ipynb',\n",
       " 'T-5060548008706965508605070',\n",
       " 'Templates',\n",
       " 'Titanic.ipynb',\n",
       " 'titanic_test.csv',\n",
       " 'titanic_train.csv',\n",
       " 'Tuples.ipynb',\n",
       " 'Untitled.ipynb',\n",
       " 'Untitled1.ipynb',\n",
       " 'Untitled2.ipynb',\n",
       " 'Variable Scope.ipynb',\n",
       " 'venv',\n",
       " 'Videos',\n",
       " 'While Loop.ipynb']"
      ]
     },
     "execution_count": 29,
     "metadata": {},
     "output_type": "execute_result"
    }
   ],
   "source": [
    "os.listdir()"
   ]
  },
  {
   "cell_type": "code",
   "execution_count": 30,
   "metadata": {
    "collapsed": true
   },
   "outputs": [
    {
     "ename": "FileNotFoundError",
     "evalue": "[WinError 2] The system cannot find the file specified: 'tips.csv'",
     "output_type": "error",
     "traceback": [
      "\u001b[1;31m---------------------------------------------------------------------------\u001b[0m",
      "\u001b[1;31mFileNotFoundError\u001b[0m                         Traceback (most recent call last)",
      "\u001b[1;32m<ipython-input-30-b0a28db57198>\u001b[0m in \u001b[0;36m<module>\u001b[1;34m\u001b[0m\n\u001b[0;32m      1\u001b[0m \u001b[1;31m# Remove for removing files\u001b[0m\u001b[1;33m\u001b[0m\u001b[1;33m\u001b[0m\u001b[1;33m\u001b[0m\u001b[0m\n\u001b[1;32m----> 2\u001b[1;33m \u001b[0mos\u001b[0m\u001b[1;33m.\u001b[0m\u001b[0mremove\u001b[0m\u001b[1;33m(\u001b[0m\u001b[1;34m'tips.csv'\u001b[0m\u001b[1;33m)\u001b[0m\u001b[1;33m\u001b[0m\u001b[1;33m\u001b[0m\u001b[0m\n\u001b[0m",
      "\u001b[1;31mFileNotFoundError\u001b[0m: [WinError 2] The system cannot find the file specified: 'tips.csv'"
     ]
    }
   ],
   "source": [
    "# Remove for removing files\n",
    "os.remove('tips.csv')"
   ]
  },
  {
   "cell_type": "code",
   "execution_count": 40,
   "metadata": {
    "collapsed": true
   },
   "outputs": [
    {
     "ename": "OSError",
     "evalue": "[WinError 145] The directory is not empty: 'text'",
     "output_type": "error",
     "traceback": [
      "\u001b[1;31m---------------------------------------------------------------------------\u001b[0m",
      "\u001b[1;31mOSError\u001b[0m                                   Traceback (most recent call last)",
      "\u001b[1;32m<ipython-input-40-4b63b218aacc>\u001b[0m in \u001b[0;36m<module>\u001b[1;34m\u001b[0m\n\u001b[0;32m      1\u001b[0m \u001b[1;31m# rmdir for removing empty directries\u001b[0m\u001b[1;33m\u001b[0m\u001b[1;33m\u001b[0m\u001b[1;33m\u001b[0m\u001b[0m\n\u001b[1;32m----> 2\u001b[1;33m \u001b[0mos\u001b[0m\u001b[1;33m.\u001b[0m\u001b[0mrmdir\u001b[0m\u001b[1;33m(\u001b[0m\u001b[1;34m'text'\u001b[0m\u001b[1;33m)\u001b[0m\u001b[1;33m\u001b[0m\u001b[1;33m\u001b[0m\u001b[0m\n\u001b[0m",
      "\u001b[1;31mOSError\u001b[0m: [WinError 145] The directory is not empty: 'text'"
     ]
    }
   ],
   "source": [
    "# rmdir for removing empty directries\n",
    "os.rmdir('text')"
   ]
  },
  {
   "cell_type": "code",
   "execution_count": 41,
   "metadata": {},
   "outputs": [],
   "source": [
    "import shutil"
   ]
  },
  {
   "cell_type": "code",
   "execution_count": 42,
   "metadata": {},
   "outputs": [],
   "source": [
    "# rmtree for removing non-empty directries\n",
    "shutil.rmtree('text')"
   ]
  },
  {
   "cell_type": "code",
   "execution_count": 43,
   "metadata": {
    "collapsed": true
   },
   "outputs": [
    {
     "data": {
      "text/plain": [
       "['.anaconda',\n",
       " '.atom',\n",
       " '.bash_history',\n",
       " '.conda',\n",
       " '.condarc',\n",
       " '.cufflinks',\n",
       " '.git',\n",
       " '.gitconfig',\n",
       " '.Icecream Screen Recorder',\n",
       " '.ipynb_checkpoints',\n",
       " '.ipython',\n",
       " '.jupyter',\n",
       " '.keras',\n",
       " '.matplotlib',\n",
       " '.nbi',\n",
       " '.oracle_jre_usage',\n",
       " '.packettracer',\n",
       " '.PyCharm2019.3',\n",
       " '.pylint.d',\n",
       " '.spyder-py3',\n",
       " '3D Objects',\n",
       " 'Anaconda3',\n",
       " 'AppData',\n",
       " 'Application Data',\n",
       " 'Cisco Packet Tracer 6.2sv',\n",
       " 'Cisco Packet Tracer 7.2',\n",
       " 'Contacts',\n",
       " 'cookbook',\n",
       " 'Cookies',\n",
       " 'Corona',\n",
       " 'Creative Cloud Files',\n",
       " 'Creative Cloud Files (archived) (1)',\n",
       " 'Data Types in Python.ipynb',\n",
       " 'Desktop',\n",
       " 'Dictionary.ipynb',\n",
       " 'Documents',\n",
       " 'Downloads',\n",
       " 'Envs',\n",
       " 'Favorites',\n",
       " 'For Loop.ipynb',\n",
       " 'Function Arguments.ipynb',\n",
       " 'Functions.ipynb',\n",
       " 'Getting Started.ipynb',\n",
       " 'hw1.ipynb',\n",
       " 'If else.ipynb',\n",
       " 'Input Output.ipynb',\n",
       " 'IntelGraphicsProfiles',\n",
       " 'Kaggle .ipynb',\n",
       " 'lambda  Functions.ipynb',\n",
       " 'LightGBM',\n",
       " 'Links',\n",
       " 'List Comprehension.ipynb',\n",
       " 'List.ipynb',\n",
       " 'Local Settings',\n",
       " 'MicrosoftEdgeBackups',\n",
       " 'ML_Intro_ML.ipynb',\n",
       " 'Music',\n",
       " 'My Code.ipynb',\n",
       " 'My Documents',\n",
       " 'Namespaces.ipynb',\n",
       " 'NetHood',\n",
       " 'NTUSER.DAT',\n",
       " 'ntuser.dat.LOG1',\n",
       " 'ntuser.dat.LOG2',\n",
       " 'NTUSER.DAT{8ebe95f6-3dcb-11e8-a9d9-7cfe90913f50}.TxR.0.regtrans-ms',\n",
       " 'NTUSER.DAT{8ebe95f6-3dcb-11e8-a9d9-7cfe90913f50}.TxR.1.regtrans-ms',\n",
       " 'NTUSER.DAT{8ebe95f6-3dcb-11e8-a9d9-7cfe90913f50}.TxR.2.regtrans-ms',\n",
       " 'NTUSER.DAT{8ebe95f6-3dcb-11e8-a9d9-7cfe90913f50}.TxR.blf',\n",
       " 'NTUSER.DAT{8ebe95f7-3dcb-11e8-a9d9-7cfe90913f50}.TM.blf',\n",
       " 'NTUSER.DAT{8ebe95f7-3dcb-11e8-a9d9-7cfe90913f50}.TMContainer00000000000000000001.regtrans-ms',\n",
       " 'NTUSER.DAT{8ebe95f7-3dcb-11e8-a9d9-7cfe90913f50}.TMContainer00000000000000000002.regtrans-ms',\n",
       " 'ntuser.ini',\n",
       " 'Numbers.ipynb',\n",
       " 'OneDrive',\n",
       " 'Operator.ipynb',\n",
       " 'Pandas - Series.ipynb',\n",
       " 'parkash_heerani',\n",
       " 'Pictures',\n",
       " 'Practice',\n",
       " 'Practice.ipynb',\n",
       " 'Practice_Notebook.ipynb',\n",
       " 'PrintHood',\n",
       " 'PROHACK.ipynb',\n",
       " 'Python Break and Continue.ipynb',\n",
       " 'Python Comments.ipynb',\n",
       " 'Python Directory.ipynb',\n",
       " 'Python File IO.ipynb',\n",
       " 'Python Pass.ipynb',\n",
       " 'Python Variables.ipynb',\n",
       " 'Recent',\n",
       " 'Recursion.ipynb',\n",
       " 'Salaries.csv',\n",
       " 'Saved Games',\n",
       " 'scikit_learn_data',\n",
       " 'seaborn-data',\n",
       " 'Searches',\n",
       " 'SendTo',\n",
       " 'Sets.ipynb',\n",
       " 'SF Salaries Exercise Solutions.ipynb',\n",
       " 'source',\n",
       " 'Start Menu',\n",
       " 'String Functions.ipynb',\n",
       " 'String Methods.ipynb',\n",
       " 'Strings.ipynb',\n",
       " 'T-5060548008706965508605070',\n",
       " 'Templates',\n",
       " 'Titanic.ipynb',\n",
       " 'titanic_test.csv',\n",
       " 'titanic_train.csv',\n",
       " 'Tuples.ipynb',\n",
       " 'Untitled.ipynb',\n",
       " 'Untitled1.ipynb',\n",
       " 'Untitled2.ipynb',\n",
       " 'Variable Scope.ipynb',\n",
       " 'venv',\n",
       " 'Videos',\n",
       " 'While Loop.ipynb']"
      ]
     },
     "execution_count": 43,
     "metadata": {},
     "output_type": "execute_result"
    }
   ],
   "source": [
    "\n",
    "os.listdir()"
   ]
  },
  {
   "cell_type": "code",
   "execution_count": null,
   "metadata": {},
   "outputs": [],
   "source": []
  },
  {
   "cell_type": "code",
   "execution_count": null,
   "metadata": {},
   "outputs": [],
   "source": []
  },
  {
   "cell_type": "code",
   "execution_count": null,
   "metadata": {},
   "outputs": [],
   "source": []
  },
  {
   "cell_type": "code",
   "execution_count": null,
   "metadata": {},
   "outputs": [],
   "source": []
  }
 ],
 "metadata": {
  "kernelspec": {
   "display_name": "Python 3",
   "language": "python",
   "name": "python3"
  },
  "language_info": {
   "codemirror_mode": {
    "name": "ipython",
    "version": 3
   },
   "file_extension": ".py",
   "mimetype": "text/x-python",
   "name": "python",
   "nbconvert_exporter": "python",
   "pygments_lexer": "ipython3",
   "version": "3.7.1"
  }
 },
 "nbformat": 4,
 "nbformat_minor": 2
}
