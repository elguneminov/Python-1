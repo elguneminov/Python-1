{
 "cells": [
  {
   "cell_type": "markdown",
   "metadata": {},
   "source": [
    "# Python Program to Count the Number of Each Vowel"
   ]
  },
  {
   "cell_type": "code",
   "execution_count": 101,
   "metadata": {},
   "outputs": [
    {
     "name": "stdout",
     "output_type": "stream",
     "text": [
      "Enter a string: Python is a good programming language but I don't like it\n",
      "a  =  4\n",
      "e  =  2\n",
      "i  =  5\n",
      "o  =  5\n",
      "u  =  2\n"
     ]
    }
   ],
   "source": [
    "s = input('Enter a string: ').lower()\n",
    "\n",
    "vowel_count = {}.fromkeys('aeiou', 0)\n",
    "\n",
    "for c in s:\n",
    "    if c in vowel_count:\n",
    "        vowel_count[c] += 1\n",
    "        \n",
    "for vowel, count in vowel_count.items():\n",
    "    print(vowel, ' = ', count)"
   ]
  },
  {
   "cell_type": "code",
   "execution_count": null,
   "metadata": {},
   "outputs": [],
   "source": []
  }
 ],
 "metadata": {
  "kernelspec": {
   "display_name": "Python 3",
   "language": "python",
   "name": "python3"
  },
  "language_info": {
   "codemirror_mode": {
    "name": "ipython",
    "version": 3
   },
   "file_extension": ".py",
   "mimetype": "text/x-python",
   "name": "python",
   "nbconvert_exporter": "python",
   "pygments_lexer": "ipython3",
   "version": "3.8.5"
  }
 },
 "nbformat": 4,
 "nbformat_minor": 4
}
