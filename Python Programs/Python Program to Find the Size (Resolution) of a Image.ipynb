{
 "cells": [
  {
   "cell_type": "markdown",
   "metadata": {},
   "source": [
    "# Python Program to Find the Size (Resolution) of a Image"
   ]
  },
  {
   "cell_type": "markdown",
   "metadata": {},
   "source": [
    "JPEG (pronounced \"jay-peg\") stands for Joint Photographic Experts Group. It is one of the most widely used compression techniques for image compression.\n",
    "\n",
    "Most of the file formats have headers (initial few bytes) which contain useful information about the file.\n",
    "\n",
    "For example, jpeg headers contain information like height, width, number of color (grayscale or RGB) etc. In this program, we find the resolution of a jpeg image reading these headers, without using any external library."
   ]
  },
  {
   "cell_type": "code",
   "execution_count": 102,
   "metadata": {},
   "outputs": [],
   "source": [
    "def jpg(file):\n",
    "    \n",
    "    with open(file, 'rb') as img_file:\n",
    "        \n",
    "        img_file.seek(163)\n",
    "        \n",
    "        a = img_file.read(2)\n",
    "        \n",
    "        height = (a[0] << 8) + a[1]\n",
    "        \n",
    "        a = img_file.read(2)\n",
    "        \n",
    "        width = (a[0] << 8) + a[1]\n",
    "        \n",
    "        print('The resolution of the image is ', width, ' x ', height)"
   ]
  },
  {
   "cell_type": "code",
   "execution_count": 103,
   "metadata": {},
   "outputs": [
    {
     "name": "stdout",
     "output_type": "stream",
     "text": [
      "The resolution of the image is  2400  x  1352\n"
     ]
    }
   ],
   "source": [
    "jpg('laptop.jpg')"
   ]
  },
  {
   "cell_type": "code",
   "execution_count": null,
   "metadata": {},
   "outputs": [],
   "source": []
  }
 ],
 "metadata": {
  "kernelspec": {
   "display_name": "Python 3",
   "language": "python",
   "name": "python3"
  },
  "language_info": {
   "codemirror_mode": {
    "name": "ipython",
    "version": 3
   },
   "file_extension": ".py",
   "mimetype": "text/x-python",
   "name": "python",
   "nbconvert_exporter": "python",
   "pygments_lexer": "ipython3",
   "version": "3.8.5"
  }
 },
 "nbformat": 4,
 "nbformat_minor": 4
}
