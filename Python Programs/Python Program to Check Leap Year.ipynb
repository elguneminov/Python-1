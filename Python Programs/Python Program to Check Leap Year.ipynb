{
 "cells": [
  {
   "cell_type": "markdown",
   "metadata": {},
   "source": [
    "# Python Program to Check Leap Year"
   ]
  },
  {
   "cell_type": "markdown",
   "metadata": {},
   "source": [
    "A leap year is exactly divisible by 4 except for century years (years ending with 00).\n",
    "\n",
    "The century year is a leap year only if it is perfectly divisible by 400. For example,\n",
    "\n",
    "2017 is not a leap year\n",
    "\n",
    "1900 is a not leap year\n",
    "\n",
    "2012 is a leap year\n",
    "\n",
    "2000 is a leap year"
   ]
  },
  {
   "cell_type": "code",
   "execution_count": 30,
   "metadata": {},
   "outputs": [
    {
     "name": "stdout",
     "output_type": "stream",
     "text": [
      "Enter year: 2000\n",
      "2000 is a leap year\n"
     ]
    }
   ],
   "source": [
    "year = int(input('Enter year: '))\n",
    "\n",
    "if year%4 == 0:\n",
    "    if year%100 == 0:\n",
    "        if year%400 == 0:\n",
    "            print('{} is a leap year'.format(year))\n",
    "        else:\n",
    "            print('{} is not a leap year'.format(year))\n",
    "    else:\n",
    "        print('{} is a leap year'.format(year))\n",
    "else:\n",
    "    print('{} is not a leap year'.format(year))"
   ]
  },
  {
   "cell_type": "code",
   "execution_count": null,
   "metadata": {},
   "outputs": [],
   "source": []
  }
 ],
 "metadata": {
  "kernelspec": {
   "display_name": "Python 3",
   "language": "python",
   "name": "python3"
  },
  "language_info": {
   "codemirror_mode": {
    "name": "ipython",
    "version": 3
   },
   "file_extension": ".py",
   "mimetype": "text/x-python",
   "name": "python",
   "nbconvert_exporter": "python",
   "pygments_lexer": "ipython3",
   "version": "3.8.5"
  }
 },
 "nbformat": 4,
 "nbformat_minor": 4
}
