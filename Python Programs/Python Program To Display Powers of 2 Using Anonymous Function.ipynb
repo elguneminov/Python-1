{
 "cells": [
  {
   "cell_type": "markdown",
   "metadata": {},
   "source": [
    "# Python Program To Display Powers of 2 Using Anonymous Function"
   ]
  },
  {
   "cell_type": "code",
   "execution_count": 45,
   "metadata": {},
   "outputs": [
    {
     "name": "stdout",
     "output_type": "stream",
     "text": [
      "Enter number of terms: 10\n",
      "Total number of terms are:  10\n",
      "10 raised to power  0  is  1\n",
      "10 raised to power  1  is  2\n",
      "10 raised to power  2  is  4\n",
      "10 raised to power  3  is  8\n",
      "10 raised to power  4  is  16\n",
      "10 raised to power  5  is  32\n",
      "10 raised to power  6  is  64\n",
      "10 raised to power  7  is  128\n",
      "10 raised to power  8  is  256\n",
      "10 raised to power  9  is  512\n"
     ]
    }
   ],
   "source": [
    "nterms = int(input('Enter number of terms: '))\n",
    "results = list(map(lambda x : 2**x, range(nterms)))\n",
    "\n",
    "print('Total number of terms are: ', nterms)\n",
    "\n",
    "for i in range(nterms):\n",
    "    print('10 raised to power ', i, ' is ', results[i])"
   ]
  },
  {
   "cell_type": "code",
   "execution_count": null,
   "metadata": {},
   "outputs": [],
   "source": []
  }
 ],
 "metadata": {
  "kernelspec": {
   "display_name": "Python 3",
   "language": "python",
   "name": "python3"
  },
  "language_info": {
   "codemirror_mode": {
    "name": "ipython",
    "version": 3
   },
   "file_extension": ".py",
   "mimetype": "text/x-python",
   "name": "python",
   "nbconvert_exporter": "python",
   "pygments_lexer": "ipython3",
   "version": "3.8.5"
  }
 },
 "nbformat": 4,
 "nbformat_minor": 4
}
