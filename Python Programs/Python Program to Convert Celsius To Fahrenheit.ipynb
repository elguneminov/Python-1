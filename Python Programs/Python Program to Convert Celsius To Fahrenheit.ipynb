{
 "cells": [
  {
   "cell_type": "markdown",
   "metadata": {},
   "source": [
    "# Python Program to Convert Celsius To Fahrenheit"
   ]
  },
  {
   "cell_type": "markdown",
   "metadata": {},
   "source": [
    "Formula:\n",
    "\n",
    "celsius * 1.8 = fahrenheit - 32"
   ]
  },
  {
   "cell_type": "code",
   "execution_count": 26,
   "metadata": {},
   "outputs": [
    {
     "name": "stdout",
     "output_type": "stream",
     "text": [
      "Enter Temperature in Celsius: 100\n",
      "There are 212.0 fahrenheit in 100.0 celsius\n"
     ]
    }
   ],
   "source": [
    "celsius = float(input('Enter Temperature in Celsius: '))\n",
    "\n",
    "fahrenheit = (celsius*1.8) + 32\n",
    "\n",
    "print('There are {} fahrenheit in {} celsius'.format(fahrenheit, celsius))"
   ]
  },
  {
   "cell_type": "markdown",
   "metadata": {},
   "source": [
    "# Python Program to Convert Fahrenheit to Celsius"
   ]
  },
  {
   "cell_type": "code",
   "execution_count": 27,
   "metadata": {},
   "outputs": [
    {
     "name": "stdout",
     "output_type": "stream",
     "text": [
      "Enter Temperature in fahrenheit: 100\n",
      "There are 100.0 fahrenheit in 37.77777777777778 celsius\n"
     ]
    }
   ],
   "source": [
    "fahrenheit = float(input('Enter Temperature in fahrenheit: '))\n",
    "\n",
    "celsius = (fahrenheit - 32)/1.8\n",
    "\n",
    "print('There are {} fahrenheit in {} celsius'.format(fahrenheit, celsius))"
   ]
  },
  {
   "cell_type": "code",
   "execution_count": null,
   "metadata": {},
   "outputs": [],
   "source": []
  }
 ],
 "metadata": {
  "kernelspec": {
   "display_name": "Python 3",
   "language": "python",
   "name": "python3"
  },
  "language_info": {
   "codemirror_mode": {
    "name": "ipython",
    "version": 3
   },
   "file_extension": ".py",
   "mimetype": "text/x-python",
   "name": "python",
   "nbconvert_exporter": "python",
   "pygments_lexer": "ipython3",
   "version": "3.8.5"
  }
 },
 "nbformat": 4,
 "nbformat_minor": 4
}
