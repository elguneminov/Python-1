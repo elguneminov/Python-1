{
 "cells": [
  {
   "cell_type": "markdown",
   "metadata": {},
   "source": [
    "# Python Program to Swap Two Variables"
   ]
  },
  {
   "cell_type": "code",
   "execution_count": 12,
   "metadata": {},
   "outputs": [
    {
     "name": "stdout",
     "output_type": "stream",
     "text": [
      "Enter 1: 5\n",
      "Enter 2: 10\n",
      "Before swapping: \n",
      "x and y are 5 and 10\n",
      "After swapping: \n",
      "x and y are 10 and 5\n"
     ]
    }
   ],
   "source": [
    "x = input('Enter 1: ')\n",
    "y = input('Enter 2: ')\n",
    "\n",
    "print('Before swapping: ')\n",
    "print('x and y are {} and {}'.format(x, y))\n",
    "\n",
    "temp = x\n",
    "x = y\n",
    "y = temp\n",
    "\n",
    "print('After swapping: ')\n",
    "print('x and y are {} and {}'.format(x, y))"
   ]
  },
  {
   "cell_type": "markdown",
   "metadata": {},
   "source": [
    "# Efficient way"
   ]
  },
  {
   "cell_type": "code",
   "execution_count": 13,
   "metadata": {},
   "outputs": [
    {
     "name": "stdout",
     "output_type": "stream",
     "text": [
      "Enter 1: 5\n",
      "Enter 2: 10\n",
      "Before swapping: \n",
      "x and y are 5 and 10\n",
      "After swapping: \n",
      "x and y are 10 and 5\n"
     ]
    }
   ],
   "source": [
    "x = input('Enter 1: ')\n",
    "y = input('Enter 2: ')\n",
    "\n",
    "print('Before swapping: ')\n",
    "print('x and y are {} and {}'.format(x, y))\n",
    "\n",
    "x, y = y, x\n",
    "\n",
    "print('After swapping: ')\n",
    "print('x and y are {} and {}'.format(x, y))"
   ]
  },
  {
   "cell_type": "markdown",
   "metadata": {},
   "source": [
    "# By using Addition and Subtraction"
   ]
  },
  {
   "cell_type": "code",
   "execution_count": 14,
   "metadata": {},
   "outputs": [
    {
     "name": "stdout",
     "output_type": "stream",
     "text": [
      "Enter 1: 100\n",
      "Enter 2: 200\n",
      "Before swapping: \n",
      "x and y are 100.0 and 200.0\n",
      "After swapping: \n",
      "x and y are 200.0 and 100.0\n"
     ]
    }
   ],
   "source": [
    "x = float(input('Enter 1: '))\n",
    "y = float(input('Enter 2: '))\n",
    "\n",
    "print('Before swapping: ')\n",
    "print('x and y are {} and {}'.format(x, y))\n",
    "\n",
    "x = x + y\n",
    "y = x - y\n",
    "x = x - y\n",
    "\n",
    "print('After swapping: ')\n",
    "print('x and y are {} and {}'.format(x, y))"
   ]
  },
  {
   "cell_type": "markdown",
   "metadata": {},
   "source": [
    "# By multiplication and Division"
   ]
  },
  {
   "cell_type": "code",
   "execution_count": 15,
   "metadata": {},
   "outputs": [
    {
     "name": "stdout",
     "output_type": "stream",
     "text": [
      "Enter 1: 500\n",
      "Enter 2: 1000\n",
      "Before swapping: \n",
      "x and y are 500.0 and 1000.0\n",
      "After swapping: \n",
      "x and y are 1000.0 and 500.0\n"
     ]
    }
   ],
   "source": [
    "x = float(input('Enter 1: '))\n",
    "y = float(input('Enter 2: '))\n",
    "\n",
    "print('Before swapping: ')\n",
    "print('x and y are {} and {}'.format(x, y))\n",
    "\n",
    "x = x * y\n",
    "y = x / y\n",
    "x = x / y\n",
    "\n",
    "print('After swapping: ')\n",
    "print('x and y are {} and {}'.format(x, y))"
   ]
  },
  {
   "cell_type": "markdown",
   "metadata": {},
   "source": [
    "# By using XOR"
   ]
  },
  {
   "cell_type": "code",
   "execution_count": 16,
   "metadata": {},
   "outputs": [
    {
     "name": "stdout",
     "output_type": "stream",
     "text": [
      "Enter 1: 100\n",
      "Enter 2: 50\n",
      "Before swapping: \n",
      "x and y are 100 and 50\n",
      "After swapping: \n",
      "x and y are 50 and 100\n"
     ]
    }
   ],
   "source": [
    "x = int(input('Enter 1: '))\n",
    "y = int(input('Enter 2: '))\n",
    "\n",
    "print('Before swapping: ')\n",
    "print('x and y are {} and {}'.format(x, y))\n",
    "\n",
    "x = x ^ y\n",
    "y = x ^ y\n",
    "x = x ^ y\n",
    "\n",
    "print('After swapping: ')\n",
    "print('x and y are {} and {}'.format(x, y))"
   ]
  },
  {
   "cell_type": "code",
   "execution_count": null,
   "metadata": {},
   "outputs": [],
   "source": []
  }
 ],
 "metadata": {
  "kernelspec": {
   "display_name": "Python 3",
   "language": "python",
   "name": "python3"
  },
  "language_info": {
   "codemirror_mode": {
    "name": "ipython",
    "version": 3
   },
   "file_extension": ".py",
   "mimetype": "text/x-python",
   "name": "python",
   "nbconvert_exporter": "python",
   "pygments_lexer": "ipython3",
   "version": "3.8.5"
  }
 },
 "nbformat": 4,
 "nbformat_minor": 4
}
