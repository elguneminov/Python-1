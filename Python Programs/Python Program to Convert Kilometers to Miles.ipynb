{
 "cells": [
  {
   "cell_type": "markdown",
   "metadata": {},
   "source": [
    "# Python Program to Convert Kilometers to Miles"
   ]
  },
  {
   "cell_type": "code",
   "execution_count": 24,
   "metadata": {},
   "outputs": [
    {
     "name": "stdout",
     "output_type": "stream",
     "text": [
      "Enter kilometers: 100\n",
      "There are 62.137100000000004 miles in 100.0 kilometers\n"
     ]
    }
   ],
   "source": [
    "km = float(input('Enter kilometers: '))\n",
    "\n",
    "conv_fact = 0.621371\n",
    "\n",
    "miles = km * conv_fact\n",
    "\n",
    "print('There are {} miles in {} kilometers'.format(miles, km))# Python Program to Convert Miles to Kilometers"
   ]
  },
  {
   "cell_type": "markdown",
   "metadata": {},
   "source": [
    "# Python Program to Convert Miles to Kilometers"
   ]
  },
  {
   "cell_type": "code",
   "execution_count": 25,
   "metadata": {},
   "outputs": [
    {
     "name": "stdout",
     "output_type": "stream",
     "text": [
      "Enter Miles: 100\n",
      "There are 160.93444978925635 kilometers in 100.0 miles\n"
     ]
    }
   ],
   "source": [
    "miles = float(input('Enter Miles: '))\n",
    "\n",
    "conv_fact = 0.621371\n",
    "\n",
    "kms = miles / conv_fact\n",
    "\n",
    "print('There are {} kilometers in {} miles'.format(kms, miles))"
   ]
  },
  {
   "cell_type": "code",
   "execution_count": null,
   "metadata": {},
   "outputs": [],
   "source": []
  }
 ],
 "metadata": {
  "kernelspec": {
   "display_name": "Python 3",
   "language": "python",
   "name": "python3"
  },
  "language_info": {
   "codemirror_mode": {
    "name": "ipython",
    "version": 3
   },
   "file_extension": ".py",
   "mimetype": "text/x-python",
   "name": "python",
   "nbconvert_exporter": "python",
   "pygments_lexer": "ipython3",
   "version": "3.8.5"
  }
 },
 "nbformat": 4,
 "nbformat_minor": 4
}
