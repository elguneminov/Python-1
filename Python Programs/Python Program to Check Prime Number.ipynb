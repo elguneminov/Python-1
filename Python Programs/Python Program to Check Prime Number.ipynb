{
 "cells": [
  {
   "cell_type": "markdown",
   "metadata": {},
   "source": [
    "# Python Program to Check Prime Number"
   ]
  },
  {
   "cell_type": "markdown",
   "metadata": {},
   "source": [
    "A positive integer greater than 1 which has no other factors except 1 and the number itself is called a prime number. 2, 3, 5, 7 etc. are prime numbers as they do not have any other factors. But 6 is not prime (it is composite) since, 2 x 3 = 6."
   ]
  },
  {
   "cell_type": "code",
   "execution_count": 32,
   "metadata": {},
   "outputs": [
    {
     "name": "stdout",
     "output_type": "stream",
     "text": [
      "Enter any positive integar number: 15\n",
      "15 is not a prime number\n",
      "3 times 5 is 15\n"
     ]
    }
   ],
   "source": [
    "num = int(input('Enter any positive integar number: '))\n",
    "\n",
    "if num > 1:\n",
    "    for i in range(2, num):\n",
    "        if num%i == 0:\n",
    "            print('{} is not a prime number'.format(num))\n",
    "            print('{} times {} is {}'.format(i, num//i, num))\n",
    "            break\n",
    "    else:\n",
    "        print('{} is a prime number'.format(num))\n",
    "else:\n",
    "    print('{} is not a prime number'.format(num))"
   ]
  },
  {
   "cell_type": "code",
   "execution_count": null,
   "metadata": {},
   "outputs": [],
   "source": []
  }
 ],
 "metadata": {
  "kernelspec": {
   "display_name": "Python 3",
   "language": "python",
   "name": "python3"
  },
  "language_info": {
   "codemirror_mode": {
    "name": "ipython",
    "version": 3
   },
   "file_extension": ".py",
   "mimetype": "text/x-python",
   "name": "python",
   "nbconvert_exporter": "python",
   "pygments_lexer": "ipython3",
   "version": "3.8.5"
  }
 },
 "nbformat": 4,
 "nbformat_minor": 4
}
