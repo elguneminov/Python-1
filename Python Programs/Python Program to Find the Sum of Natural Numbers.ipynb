{
 "cells": [
  {
   "cell_type": "markdown",
   "metadata": {},
   "source": [
    "# Python Program to Find the Sum of Natural Numbers"
   ]
  },
  {
   "cell_type": "code",
   "execution_count": 42,
   "metadata": {},
   "outputs": [
    {
     "name": "stdout",
     "output_type": "stream",
     "text": [
      "Enter number: 100\n",
      "The sum of natural number up to 100 is 5050\n"
     ]
    }
   ],
   "source": [
    "num = int(input('Enter number: '))\n",
    "\n",
    "Sum = 0\n",
    "for i in range(num+1):\n",
    "    Sum = Sum + i\n",
    "print('The sum of natural number up to {} is {}'.format(num, Sum))"
   ]
  },
  {
   "cell_type": "code",
   "execution_count": 43,
   "metadata": {},
   "outputs": [
    {
     "name": "stdout",
     "output_type": "stream",
     "text": [
      "Enter number: 100\n",
      "The sum of natural number up to 0 is 5050\n"
     ]
    }
   ],
   "source": [
    "num = int(input('Enter number: '))\n",
    "\n",
    "Sum = 0\n",
    "while num > 0:\n",
    "    Sum = Sum + num\n",
    "    num = num - 1\n",
    "print('The sum of natural number up to {} is {}'.format(num, Sum))"
   ]
  },
  {
   "cell_type": "code",
   "execution_count": 44,
   "metadata": {},
   "outputs": [
    {
     "name": "stdout",
     "output_type": "stream",
     "text": [
      "Enter number: 100\n",
      "The sum of natural number up to 100 is 5050\n"
     ]
    }
   ],
   "source": [
    "num = int(input('Enter number: '))\n",
    "print('The sum of natural number up to {} is {}'.format(num, sum([i for i in range(num+1)])))"
   ]
  },
  {
   "cell_type": "code",
   "execution_count": null,
   "metadata": {},
   "outputs": [],
   "source": []
  }
 ],
 "metadata": {
  "kernelspec": {
   "display_name": "Python 3",
   "language": "python",
   "name": "python3"
  },
  "language_info": {
   "codemirror_mode": {
    "name": "ipython",
    "version": 3
   },
   "file_extension": ".py",
   "mimetype": "text/x-python",
   "name": "python",
   "nbconvert_exporter": "python",
   "pygments_lexer": "ipython3",
   "version": "3.8.5"
  }
 },
 "nbformat": 4,
 "nbformat_minor": 4
}
