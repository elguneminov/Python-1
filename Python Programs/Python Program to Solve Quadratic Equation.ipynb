{
 "cells": [
  {
   "cell_type": "markdown",
   "metadata": {},
   "source": [
    "# Python Program to Solve Quadratic Equation"
   ]
  },
  {
   "cell_type": "markdown",
   "metadata": {},
   "source": [
    "ax2 + bx + c = 0, where\n",
    "\n",
    "a, b and c are real numbers and\n",
    "\n",
    "a ≠ 0"
   ]
  },
  {
   "cell_type": "code",
   "execution_count": 11,
   "metadata": {},
   "outputs": [
    {
     "name": "stdout",
     "output_type": "stream",
     "text": [
      "Enter a: 10\n",
      "Enter b: 5\n",
      "Enter c: 6\n",
      "The solutions are (-4.999999999999999+14.66287829861518j) and (-5.000000000000001-14.66287829861518j)\n"
     ]
    }
   ],
   "source": [
    "a = float(input('Enter a: '))\n",
    "b = float(input('Enter b: '))\n",
    "c = float(input('Enter c: '))\n",
    "\n",
    "d = b**2 - 4*a*c\n",
    "\n",
    "sol1 = -b+d**0.5\n",
    "sol2 = -b-d**0.5\n",
    "\n",
    "print(\"The solutions are {} and {}\".format(sol1, sol2))"
   ]
  }
 ],
 "metadata": {
  "kernelspec": {
   "display_name": "Python 3",
   "language": "python",
   "name": "python3"
  },
  "language_info": {
   "codemirror_mode": {
    "name": "ipython",
    "version": 3
   },
   "file_extension": ".py",
   "mimetype": "text/x-python",
   "name": "python",
   "nbconvert_exporter": "python",
   "pygments_lexer": "ipython3",
   "version": "3.8.5"
  }
 },
 "nbformat": 4,
 "nbformat_minor": 4
}
