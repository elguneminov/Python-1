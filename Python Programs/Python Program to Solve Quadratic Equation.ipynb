{
 "cells": [
  {
   "cell_type": "markdown",
   "metadata": {},
   "source": [
    "# Python Program to Solve Quadratic Equation"
   ]
  },
  {
   "cell_type": "markdown",
   "metadata": {},
   "source": [
    "The standard form of a quadratic equation is:\n",
    "\n",
    "ax^2 + bx + c = 0, where\n",
    "a, b and c are real numbers and\n",
    "a ≠ 0"
   ]
  },
  {
   "cell_type": "code",
   "execution_count": 14,
   "metadata": {},
   "outputs": [
    {
     "name": "stdout",
     "output_type": "stream",
     "text": [
      "Enter a: 6\n",
      "Enter b: 3\n",
      "Enter c: 5\n",
      "Root1: -0.25 + 0.8779711460710615j\n",
      "Root2: -0.25 - 0.8779711460710615j\n"
     ]
    }
   ],
   "source": [
    "a = float(input('Enter a: '))\n",
    "b = float(input('Enter b: '))\n",
    "c = float(input('Enter c: '))\n",
    "\n",
    "d = b*b - 4*a*c\n",
    "\n",
    "if d == 0:\n",
    "    print('The root is: ', -b/(2*a))\n",
    "elif d > 0:\n",
    "    root1 = (-b + d**0.5)/(2*a)\n",
    "    root2 = (-b - d**0.5)/(2*a)\n",
    "    print('The roots are {} and {}'.format(root1, root2))\n",
    "else:\n",
    "    real = -b/(2*a)\n",
    "    imag = ((-d)**0.5)/(2*a)\n",
    "    \n",
    "    print('Root1: {} + {}j'.format(real, imag))\n",
    "    print('Root2: {} - {}j'.format(real, imag))"
   ]
  },
  {
   "cell_type": "code",
   "execution_count": null,
   "metadata": {},
   "outputs": [],
   "source": []
  },
  {
   "cell_type": "code",
   "execution_count": null,
   "metadata": {},
   "outputs": [],
   "source": []
  },
  {
   "cell_type": "code",
   "execution_count": null,
   "metadata": {},
   "outputs": [],
   "source": []
  },
  {
   "cell_type": "code",
   "execution_count": null,
   "metadata": {},
   "outputs": [],
   "source": []
  }
 ],
 "metadata": {
  "kernelspec": {
   "display_name": "Python 3",
   "language": "python",
   "name": "python3"
  },
  "language_info": {
   "codemirror_mode": {
    "name": "ipython",
    "version": 3
   },
   "file_extension": ".py",
   "mimetype": "text/x-python",
   "name": "python",
   "nbconvert_exporter": "python",
   "pygments_lexer": "ipython3",
   "version": "3.8.5"
  }
 },
 "nbformat": 4,
 "nbformat_minor": 4
}
