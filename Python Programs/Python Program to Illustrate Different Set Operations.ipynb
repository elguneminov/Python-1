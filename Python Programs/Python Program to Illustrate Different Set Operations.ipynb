{
 "cells": [
  {
   "cell_type": "markdown",
   "metadata": {},
   "source": [
    "# Python Program to Illustrate Different Set Operations"
   ]
  },
  {
   "cell_type": "code",
   "execution_count": 100,
   "metadata": {},
   "outputs": [
    {
     "name": "stdout",
     "output_type": "stream",
     "text": [
      "The union is:  {1, 2, 3, 5, 6, 8, 9}\n",
      "The intersection is:  {2, 3}\n",
      "The difference is:  {1, 5, 6}\n",
      "The symmetric difference is:  {1, 5, 6, 8, 9}\n"
     ]
    }
   ],
   "source": [
    "s1 = {1,2,3,5,6}\n",
    "s2 = {2,3,8,9}\n",
    "\n",
    "print('The union is: ', s1 | s2)\n",
    "print('The intersection is: ', s1 & s2)\n",
    "print('The difference is: ', s1 - s2)\n",
    "print('The symmetric difference is: ', s1 ^ s2)"
   ]
  },
  {
   "cell_type": "code",
   "execution_count": null,
   "metadata": {},
   "outputs": [],
   "source": []
  }
 ],
 "metadata": {
  "kernelspec": {
   "display_name": "Python 3",
   "language": "python",
   "name": "python3"
  },
  "language_info": {
   "codemirror_mode": {
    "name": "ipython",
    "version": 3
   },
   "file_extension": ".py",
   "mimetype": "text/x-python",
   "name": "python",
   "nbconvert_exporter": "python",
   "pygments_lexer": "ipython3",
   "version": "3.8.5"
  }
 },
 "nbformat": 4,
 "nbformat_minor": 4
}
