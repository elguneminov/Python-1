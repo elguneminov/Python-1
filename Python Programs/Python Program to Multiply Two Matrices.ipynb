{
 "cells": [
  {
   "cell_type": "markdown",
   "metadata": {},
   "source": [
    "# Python Program to Multiply Two Matrices"
   ]
  },
  {
   "cell_type": "markdown",
   "metadata": {},
   "source": [
    "In Python, we can implement a matrix as nested list (list inside a list).\n",
    "\n",
    "We can treat each element as a row of the matrix.\n",
    "\n",
    "For example X = [[1, 2], [4, 5], [3, 6]] would represent a 3x2 matrix.\n",
    "\n",
    "The first row can be selected as X[0]. And, the element in first row, first column can be selected as X[0][0].\n",
    "\n",
    "Multiplication of two matrices X and Y is defined only if the number of columns in X is equal to the number of rows Y.\n",
    "\n",
    "If X is a n x m matrix and Y is a m x l matrix then, XY is defined and has the dimension n x l (but YX is not defined)."
   ]
  },
  {
   "cell_type": "code",
   "execution_count": 92,
   "metadata": {},
   "outputs": [
    {
     "name": "stdout",
     "output_type": "stream",
     "text": [
      "[23, 29, 35, 41]\n",
      "[32, 41, 50, 59]\n",
      "[50, 65, 80, 95]\n"
     ]
    }
   ],
   "source": [
    "X = [[1,2,3], # 3x3\n",
    "    [2,3,4],\n",
    "    [4,5,6]]\n",
    "\n",
    "Y = [[1,2,3,4],\n",
    "    [2,3,4,5],\n",
    "    [6,7,8,9]] # 3x4\n",
    "\n",
    "result = [[0,0,0,0],\n",
    "         [0,0,0,0],\n",
    "         [0,0,0,0]]\n",
    "\n",
    "\n",
    "for i in range(len(X)): # rows of X\n",
    "    for j in range(len(Y[0])): # Cols of Y\n",
    "        for k in range(len(Y)): #rows of y\n",
    "            result[i][j] += X[i][k] * Y[k][j]\n",
    "            \n",
    "for r in result:\n",
    "    print(r)"
   ]
  },
  {
   "cell_type": "markdown",
   "metadata": {},
   "source": [
    "# Using list comprehension"
   ]
  },
  {
   "cell_type": "code",
   "execution_count": 93,
   "metadata": {},
   "outputs": [
    {
     "name": "stdout",
     "output_type": "stream",
     "text": [
      "[23, 29, 35, 41]\n",
      "[32, 41, 50, 59]\n",
      "[50, 65, 80, 95]\n"
     ]
    }
   ],
   "source": [
    "X = [[1,2,3], # 3x3\n",
    "    [2,3,4],\n",
    "    [4,5,6]]\n",
    "\n",
    "Y = [[1,2,3,4],\n",
    "    [2,3,4,5],\n",
    "    [6,7,8,9]] # 3x4\n",
    "            \n",
    "result = [[sum(a*b for a, b in zip(x_row, y_col)) for y_col in zip(*Y)]for x_row in X]\n",
    "            \n",
    "for r in result:\n",
    "    print(r)"
   ]
  },
  {
   "cell_type": "code",
   "execution_count": null,
   "metadata": {},
   "outputs": [],
   "source": []
  }
 ],
 "metadata": {
  "kernelspec": {
   "display_name": "Python 3",
   "language": "python",
   "name": "python3"
  },
  "language_info": {
   "codemirror_mode": {
    "name": "ipython",
    "version": 3
   },
   "file_extension": ".py",
   "mimetype": "text/x-python",
   "name": "python",
   "nbconvert_exporter": "python",
   "pygments_lexer": "ipython3",
   "version": "3.8.5"
  }
 },
 "nbformat": 4,
 "nbformat_minor": 4
}
