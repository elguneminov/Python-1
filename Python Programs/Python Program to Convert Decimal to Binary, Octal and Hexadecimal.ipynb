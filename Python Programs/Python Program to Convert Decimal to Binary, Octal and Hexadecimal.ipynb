{
 "cells": [
  {
   "cell_type": "markdown",
   "metadata": {},
   "source": [
    "# Python Program to Convert Decimal to Binary, Octal and Hexadecimal"
   ]
  },
  {
   "cell_type": "markdown",
   "metadata": {},
   "source": [
    "The decimal system is base 10 (ten symbols, 0-9, are used to represent a number) and similarly, binary is base 2, octal is base 8 and hexadecimal is base 16.\n",
    "\n",
    "A number with the prefix 0b is considered binary, 0o is considered octal and 0x as hexadecimal.\n",
    "\n",
    "For example:\n",
    "\n",
    "60 = 0b111100 = 0o74 = 0x3c\n",
    "\n",
    "Deciaml - 0, 1, 2, ... 9\n",
    "\n",
    "Binary - 0,1\n",
    "\n",
    "Octal - 0, 1, 2, ... 7,\n",
    "\n",
    "Hexa - 0, 1,.. 9, A, B, C, D, E, F"
   ]
  },
  {
   "cell_type": "code",
   "execution_count": 48,
   "metadata": {},
   "outputs": [
    {
     "name": "stdout",
     "output_type": "stream",
     "text": [
      "0b111100\n",
      "0o74\n",
      "0x3c\n"
     ]
    }
   ],
   "source": [
    "num = 60\n",
    "\n",
    "print(bin(num))\n",
    "print(oct(num))\n",
    "print(hex(num))"
   ]
  },
  {
   "cell_type": "code",
   "execution_count": null,
   "metadata": {},
   "outputs": [],
   "source": []
  }
 ],
 "metadata": {
  "kernelspec": {
   "display_name": "Python 3",
   "language": "python",
   "name": "python3"
  },
  "language_info": {
   "codemirror_mode": {
    "name": "ipython",
    "version": 3
   },
   "file_extension": ".py",
   "mimetype": "text/x-python",
   "name": "python",
   "nbconvert_exporter": "python",
   "pygments_lexer": "ipython3",
   "version": "3.8.5"
  }
 },
 "nbformat": 4,
 "nbformat_minor": 4
}
