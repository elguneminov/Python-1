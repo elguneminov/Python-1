{
 "cells": [
  {
   "cell_type": "markdown",
   "metadata": {},
   "source": [
    "# Python Program to Make a Simple Calculator"
   ]
  },
  {
   "cell_type": "code",
   "execution_count": 76,
   "metadata": {},
   "outputs": [],
   "source": [
    "def add(x, y):\n",
    "    return x + y\n",
    "\n",
    "def sub(x, y):\n",
    "    return x - y\n",
    "\n",
    "def mult(x, y):\n",
    "    return x * y\n",
    "\n",
    "def div(x, y):\n",
    "    return x / y"
   ]
  },
  {
   "cell_type": "code",
   "execution_count": 77,
   "metadata": {},
   "outputs": [
    {
     "name": "stdout",
     "output_type": "stream",
     "text": [
      "1. Addition\n",
      "2. Subtraction\n",
      "3. Multiplication\n",
      "4. Division\n",
      "\n",
      "\n",
      "Enter any number from above: 3\n",
      "Enter num1: 5\n",
      "Enter num2: 9\n",
      "5.0  *  9.0  =  45.0\n",
      "Do you want to continue? (Y/N)y\n",
      "Enter any number from above: 1\n",
      "Enter num1: 7\n",
      "Enter num2: 5\n",
      "7.0  +  5.0  =  12.0\n",
      "Do you want to continue? (Y/N)n\n"
     ]
    }
   ],
   "source": [
    "print('1. Addition')\n",
    "print('2. Subtraction')\n",
    "print('3. Multiplication')\n",
    "print('4. Division')\n",
    "print('\\n')\n",
    "check = True\n",
    "while check:\n",
    "    choice = int(input('Enter any number from above: '))\n",
    "    if choice in (1, 2, 3, 4):\n",
    "        num1 = float(input('Enter num1: '))\n",
    "        num2 = float(input('Enter num2: '))\n",
    "\n",
    "        if choice == 1:\n",
    "            print(num1, ' + ', num2, ' = ', add(num1, num2))\n",
    "        elif choice == 2:\n",
    "            print(num1, ' - ', num2, ' = ', sub(num1, num2))\n",
    "        elif choice == 3:\n",
    "            print(num1, ' * ', num2, ' = ', mult(num1, num2))\n",
    "        elif choice == 4:\n",
    "            print(num1, ' / ', num2, ' = ', div(num1, num2))\n",
    "        check = input('Do you want to continue? (Y/N)')\n",
    "        if check.lower() == 'n':\n",
    "            check = False\n",
    "    else:\n",
    "        print('Invalid Input')"
   ]
  },
  {
   "cell_type": "code",
   "execution_count": null,
   "metadata": {},
   "outputs": [],
   "source": []
  }
 ],
 "metadata": {
  "kernelspec": {
   "display_name": "Python 3",
   "language": "python",
   "name": "python3"
  },
  "language_info": {
   "codemirror_mode": {
    "name": "ipython",
    "version": 3
   },
   "file_extension": ".py",
   "mimetype": "text/x-python",
   "name": "python",
   "nbconvert_exporter": "python",
   "pygments_lexer": "ipython3",
   "version": "3.8.5"
  }
 },
 "nbformat": 4,
 "nbformat_minor": 4
}
