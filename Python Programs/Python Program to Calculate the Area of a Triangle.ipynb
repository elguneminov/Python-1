{
 "cells": [
  {
   "cell_type": "markdown",
   "metadata": {},
   "source": [
    "# Python Program to Calculate the Area of a Triangle"
   ]
  },
  {
   "cell_type": "markdown",
   "metadata": {},
   "source": [
    "# Case1"
   ]
  },
  {
   "cell_type": "markdown",
   "metadata": {},
   "source": [
    "If 3 sides a, b, and c are given:\n",
    "\n",
    "s = (a+b+c)/2\n",
    "\n",
    "area = √(s(s-a)*(s-b)*(s-c))"
   ]
  },
  {
   "cell_type": "code",
   "execution_count": 10,
   "metadata": {},
   "outputs": [
    {
     "name": "stdout",
     "output_type": "stream",
     "text": [
      "Enter side1: 5\n",
      "Enter side2 : 6\n",
      "Enter side3 : 10\n",
      "The area of a triangle is 11.399013115177997\n"
     ]
    }
   ],
   "source": [
    "a = float(input('Enter side1: '))\n",
    "b = float(input('Enter side2 : '))\n",
    "c = float(input('Enter side3 : '))\n",
    "\n",
    "s = (a+b+c)/2\n",
    "\n",
    "area = (s*(s-a)*(s-b)*(s-c))**0.5\n",
    "\n",
    "print('The area of a triangle is {}'.format(area))"
   ]
  },
  {
   "cell_type": "markdown",
   "metadata": {},
   "source": [
    "# Case2"
   ]
  },
  {
   "cell_type": "markdown",
   "metadata": {},
   "source": [
    "If base and height are given:\n",
    "    \n",
    "area = 0.5 x b x h"
   ]
  },
  {
   "cell_type": "code",
   "execution_count": 9,
   "metadata": {},
   "outputs": [
    {
     "name": "stdout",
     "output_type": "stream",
     "text": [
      "Please enter base: 5\n",
      "Please enter height: 10\n",
      "The area of a triangle with base 5.0 and height 10.0 is 25.0\n"
     ]
    }
   ],
   "source": [
    "base = float(input('Please enter base: '))\n",
    "height = float(input('Please enter height: '))\n",
    "\n",
    "area = 0.5 * base * height\n",
    "\n",
    "print('The area of a triangle with base {} and height {} is {}'.format(base, height, area))"
   ]
  },
  {
   "cell_type": "code",
   "execution_count": null,
   "metadata": {},
   "outputs": [],
   "source": []
  }
 ],
 "metadata": {
  "kernelspec": {
   "display_name": "Python 3",
   "language": "python",
   "name": "python3"
  },
  "language_info": {
   "codemirror_mode": {
    "name": "ipython",
    "version": 3
   },
   "file_extension": ".py",
   "mimetype": "text/x-python",
   "name": "python",
   "nbconvert_exporter": "python",
   "pygments_lexer": "ipython3",
   "version": "3.8.5"
  }
 },
 "nbformat": 4,
 "nbformat_minor": 4
}
