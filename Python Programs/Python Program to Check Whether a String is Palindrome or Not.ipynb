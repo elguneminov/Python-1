{
 "cells": [
  {
   "cell_type": "markdown",
   "metadata": {},
   "source": [
    "# Python Program to Check Whether a String is Palindrome or Not"
   ]
  },
  {
   "cell_type": "markdown",
   "metadata": {},
   "source": [
    "A palindrome is a string that is the same read forward or backward.\n",
    "\n",
    "For example, \"dad\" is the same in forward or reverse direction. Another example is \"aibohphobia\", which literally means, an irritable fear of palindromes."
   ]
  },
  {
   "cell_type": "code",
   "execution_count": 94,
   "metadata": {},
   "outputs": [],
   "source": [
    "def isPalindrome(s):\n",
    "    if list(s.lower()) == list(reversed(s.lower())):\n",
    "        print(s, ' is a Palindrome')\n",
    "    else:\n",
    "        print(s, ' is not a Palindrome')"
   ]
  },
  {
   "cell_type": "code",
   "execution_count": 95,
   "metadata": {},
   "outputs": [
    {
     "name": "stdout",
     "output_type": "stream",
     "text": [
      "dad  is a Palindrome\n"
     ]
    }
   ],
   "source": [
    "isPalindrome('dad')"
   ]
  },
  {
   "cell_type": "code",
   "execution_count": 96,
   "metadata": {},
   "outputs": [
    {
     "name": "stdout",
     "output_type": "stream",
     "text": [
      "aibohphobia  is a Palindrome\n"
     ]
    }
   ],
   "source": [
    "isPalindrome('aibohphobia')"
   ]
  },
  {
   "cell_type": "code",
   "execution_count": 97,
   "metadata": {},
   "outputs": [
    {
     "name": "stdout",
     "output_type": "stream",
     "text": [
      "Parkash  is not a Palindrome\n"
     ]
    }
   ],
   "source": [
    "isPalindrome('Parkash')"
   ]
  },
  {
   "cell_type": "code",
   "execution_count": null,
   "metadata": {},
   "outputs": [],
   "source": []
  }
 ],
 "metadata": {
  "kernelspec": {
   "display_name": "Python 3",
   "language": "python",
   "name": "python3"
  },
  "language_info": {
   "codemirror_mode": {
    "name": "ipython",
    "version": 3
   },
   "file_extension": ".py",
   "mimetype": "text/x-python",
   "name": "python",
   "nbconvert_exporter": "python",
   "pygments_lexer": "ipython3",
   "version": "3.8.5"
  }
 },
 "nbformat": 4,
 "nbformat_minor": 4
}
